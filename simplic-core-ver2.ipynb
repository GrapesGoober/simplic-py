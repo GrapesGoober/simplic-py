{
 "cells": [
  {
   "cell_type": "markdown",
   "metadata": {},
   "source": [
    "# Simplic Microcontroller\n",
    "This implementation of _Simplic_ is a 32-bit accumulator-based microcontroller. This Python notebook will gradually build upon each individual concepts until we arrive at a working microcontroller. "
   ]
  },
  {
   "cell_type": "markdown",
   "metadata": {},
   "source": [
    "### Registers\n",
    "_Simplic_ is an accumulator based machine, and has has 3 registers: the Accumulator (ACC), the Base Stack Pointer (BSP), and the Program Counter (PC). These internal registers are implemented as python variables. In addition to these three registers, there are also the 1-bit flag status registers: Zero (Z), Negative (N), Carry (C), Overflow (V), which will be implemented as integers of either 0 or 1."
   ]
  },
  {
   "cell_type": "code",
   "execution_count": null,
   "metadata": {},
   "outputs": [],
   "source": [
    "from simplic_core_ver2 import SimplicCore\n",
    "from intelhex import IntelHex"
   ]
  },
  {
   "cell_type": "code",
   "execution_count": null,
   "metadata": {},
   "outputs": [],
   "source": []
  }
 ],
 "metadata": {
  "kernelspec": {
   "display_name": "Python 3",
   "language": "python",
   "name": "python3"
  },
  "language_info": {
   "codemirror_mode": {
    "name": "ipython",
    "version": 3
   },
   "file_extension": ".py",
   "mimetype": "text/x-python",
   "name": "python",
   "nbconvert_exporter": "python",
   "pygments_lexer": "ipython3",
   "version": "3.10.6"
  }
 },
 "nbformat": 4,
 "nbformat_minor": 2
}
