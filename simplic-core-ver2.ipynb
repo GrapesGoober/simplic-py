{
 "cells": [
  {
   "cell_type": "markdown",
   "metadata": {},
   "source": [
    "# Simplic Microcontroller\n",
    "This implementation of _Simplic_ is a 32-bit accumulator-based microcontroller. This Python notebook will gradually build upon each individual concepts until we arrive at a working microcontroller. There are four parts to this notebook:\n",
    "- First part introduces the ISA, the registers, and how it will all work together to form a computer.\n",
    "- Second part covers the implementation of each individual instructions and flag bits\n",
    "- Third part showcases the memory unit, and the Word-Ram model\n",
    "- Last part will assemble everything together to form a microcontroller!\n",
    "\n",
    "However, this notebook will not be covering assembly programming, but instead focuses on the implementation and thus use machine-code instructions instead. This is intended to be a guideline to Computer Architectures."
   ]
  },
  {
   "cell_type": "markdown",
   "metadata": {},
   "source": [
    "### Part One: ISA, Registers, and a Computer\n",
    "\n",
    "Instruction Set Architecture, or ISA, is a set of instructions a computer can perform. A computer program is essentially a sequential string of these instructions. The ISA is like a dictionary of a language, whereas a cook book is a program written with that language. For _Simplic_, there are 16 instructions, each with their unique and specific roles. Each of these instructions will be expanded later on.\n",
    "\n",
    "Simplic has 3 registers: the Accumulator (ACC), the Base Stack Pointer (BSP), and the Program Counter (PC). Registers are essentially electrical circuits that can hold some data. These internal registers are implemented as python variables. In addition to these three registers, there are also the 1-bit flag status registers: Zero (Z), Negative (N), Carry (C), Overflow (V), which will be implemented as integers of either 0 or 1. These flags hold very crutial information about the results of a computation, which can then be used for branching logic or carry arithmatics.\n",
    "\n",
    "Do note that, in reality, microcontrollers vary in design quite considerably. Accumulator-based architecture is only one of many designs, and many modern computers utilize multiple registers (16 registers or even 32). The choice of using an accumulator-based design is for simplicity. "
   ]
  },
  {
   "cell_type": "code",
   "execution_count": 2,
   "metadata": {},
   "outputs": [],
   "source": [
    "class SimplicCore:\n",
    "    ACC, BSP, PC = 0, 0, 0\n",
    "    Z, N, C, V = 0, 0, 0, 0"
   ]
  },
  {
   "cell_type": "code",
   "execution_count": 3,
   "metadata": {},
   "outputs": [],
   "source": [
    "def add(self, data):\n",
    "    self.ACC += data\n",
    "    self.ACC &= 0xFFFFFFFF\n",
    "\n",
    "SimplicCore.add = add"
   ]
  },
  {
   "cell_type": "markdown",
   "metadata": {},
   "source": [
    "### Part Two: Memory and the Word-Ram model\n",
    "For simplicity, this implementation uses a _Word-Ram_ model where each word in the memory (or the RAM) is exactly the same size as the processor word, and is assumed to take one single intruction cycle (just the same as other intructions). This simplifies memory addressing down to simple load and store."
   ]
  },
  {
   "cell_type": "code",
   "execution_count": 5,
   "metadata": {},
   "outputs": [],
   "source": [
    "class Memory:\n",
    "    words = {}\n",
    "    def read(self, address):\n",
    "        return self.words[address] if address in self.words else 0\n",
    "    def write(self, address, value):\n",
    "        self.words[address] = value"
   ]
  }
 ],
 "metadata": {
  "kernelspec": {
   "display_name": "Python 3",
   "language": "python",
   "name": "python3"
  },
  "language_info": {
   "codemirror_mode": {
    "name": "ipython",
    "version": 3
   },
   "file_extension": ".py",
   "mimetype": "text/x-python",
   "name": "python",
   "nbconvert_exporter": "python",
   "pygments_lexer": "ipython3",
   "version": "3.10.6"
  }
 },
 "nbformat": 4,
 "nbformat_minor": 2
}
